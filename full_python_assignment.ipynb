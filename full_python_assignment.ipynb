{
 "cells": [
  {
   "cell_type": "markdown",
   "id": "1c25eeeb",
   "metadata": {},
   "source": [
    "## Reverse a String"
   ]
  },
  {
   "cell_type": "code",
   "execution_count": 29,
   "id": "3786fe0c",
   "metadata": {},
   "outputs": [
    {
     "name": "stdout",
     "output_type": "stream",
     "text": [
      "olleh\n"
     ]
    }
   ],
   "source": [
    "def reverse_string(s):\n",
    "    return s[::-1]\n",
    "\n",
    "s = \"hello\"\n",
    "print(reverse_string(s))"
   ]
  },
  {
   "cell_type": "markdown",
   "id": "b07370d4",
   "metadata": {},
   "source": [
    "## Count Vowels"
   ]
  },
  {
   "cell_type": "code",
   "execution_count": 30,
   "id": "98d5b9a9",
   "metadata": {},
   "outputs": [
    {
     "name": "stdout",
     "output_type": "stream",
     "text": [
      "2\n"
     ]
    }
   ],
   "source": [
    "def count_vowels(s):\n",
    "    return sum(1 for char in s if char.lower() in \"aeiou\")\n",
    "\n",
    "s = \"hello\"\n",
    "print(count_vowels(s))"
   ]
  },
  {
   "cell_type": "markdown",
   "id": "38ef603b",
   "metadata": {},
   "source": [
    "## Check Palindrome"
   ]
  },
  {
   "cell_type": "code",
   "execution_count": 31,
   "id": "c530abde",
   "metadata": {},
   "outputs": [
    {
     "name": "stdout",
     "output_type": "stream",
     "text": [
      "True\n"
     ]
    }
   ],
   "source": [
    "def is_palindrome(s):\n",
    "    return s == s[::-1]\n",
    "\n",
    "s = \"madam\"\n",
    "print(is_palindrome(s))"
   ]
  },
  {
   "cell_type": "markdown",
   "id": "1a07eb25",
   "metadata": {},
   "source": [
    "## Check Anagram"
   ]
  },
  {
   "cell_type": "code",
   "execution_count": 32,
   "id": "8496c6a9",
   "metadata": {},
   "outputs": [
    {
     "name": "stdout",
     "output_type": "stream",
     "text": [
      "True\n"
     ]
    }
   ],
   "source": [
    "from collections import Counter\n",
    "\n",
    "def are_anagrams(s1, s2):\n",
    "    return Counter(s1) == Counter(s2)\n",
    "\n",
    "s1, s2 = \"listen\", \"silent\"\n",
    "print(are_anagrams(s1, s2))"
   ]
  },
  {
   "cell_type": "markdown",
   "id": "3dd01d34",
   "metadata": {},
   "source": [
    "## Find All Occurrences of Substring"
   ]
  },
  {
   "cell_type": "code",
   "execution_count": 33,
   "id": "0857ee3f",
   "metadata": {},
   "outputs": [
    {
     "name": "stdout",
     "output_type": "stream",
     "text": [
      "[3, 8]\n"
     ]
    }
   ],
   "source": [
    "def find_substring_occurrences(text, sub):\n",
    "    return [i for i in range(len(text)) if text.startswith(sub, i)]\n",
    "\n",
    "text, sub = \"hellohello\", \"lo\"\n",
    "print(find_substring_occurrences(text, sub))"
   ]
  },
  {
   "cell_type": "markdown",
   "id": "729460c1",
   "metadata": {},
   "source": [
    "## String Compression"
   ]
  },
  {
   "cell_type": "code",
   "execution_count": 34,
   "id": "1fc7fac1",
   "metadata": {},
   "outputs": [
    {
     "name": "stdout",
     "output_type": "stream",
     "text": [
      "aabbcc\n"
     ]
    }
   ],
   "source": [
    "def compress_string(s):\n",
    "    compressed, count = \"\", 1\n",
    "    for i in range(1, len(s)):\n",
    "        if s[i] == s[i-1]:\n",
    "            count += 1\n",
    "        else:\n",
    "            compressed += s[i-1] + str(count)\n",
    "            count = 1\n",
    "    compressed += s[-1] + str(count)\n",
    "    return compressed if len(compressed) < len(s) else s\n",
    "\n",
    "s = \"aabbcc\"\n",
    "print(compress_string(s))"
   ]
  },
  {
   "cell_type": "markdown",
   "id": "66305515",
   "metadata": {},
   "source": [
    "## Check Unique Characters"
   ]
  },
  {
   "cell_type": "code",
   "execution_count": 35,
   "id": "793a78b2",
   "metadata": {},
   "outputs": [
    {
     "name": "stdout",
     "output_type": "stream",
     "text": [
      "True\n"
     ]
    }
   ],
   "source": [
    "def has_unique_chars(s):\n",
    "    return len(s) == len(set(s))\n",
    "\n",
    "s = \"abcdef\"\n",
    "print(has_unique_chars(s))"
   ]
  },
  {
   "cell_type": "markdown",
   "id": "d7fff791",
   "metadata": {},
   "source": [
    "## Convert to Uppercase and Lowercase"
   ]
  },
  {
   "cell_type": "code",
   "execution_count": 36,
   "id": "f9cf0665",
   "metadata": {},
   "outputs": [
    {
     "name": "stdout",
     "output_type": "stream",
     "text": [
      "HELLO WORLD hello world\n"
     ]
    }
   ],
   "source": [
    "s = \"Hello World\"\n",
    "print(s.upper(), s.lower())"
   ]
  },
  {
   "cell_type": "markdown",
   "id": "2ca551e1",
   "metadata": {},
   "source": [
    "## Count Words"
   ]
  },
  {
   "cell_type": "code",
   "execution_count": 37,
   "id": "5230b8ce",
   "metadata": {},
   "outputs": [
    {
     "name": "stdout",
     "output_type": "stream",
     "text": [
      "4\n"
     ]
    }
   ],
   "source": [
    "def count_words(s):\n",
    "    return len(s.split())\n",
    "\n",
    "s = \"Hello world from Python\"\n",
    "print(count_words(s))"
   ]
  },
  {
   "cell_type": "markdown",
   "id": "3fb6593b",
   "metadata": {},
   "source": [
    "## Concatenate Strings Without + Operator"
   ]
  },
  {
   "cell_type": "code",
   "execution_count": 38,
   "id": "730ffd56",
   "metadata": {},
   "outputs": [
    {
     "name": "stdout",
     "output_type": "stream",
     "text": [
      "HelloWorld\n"
     ]
    }
   ],
   "source": [
    "def concatenate_strings(s1, s2):\n",
    "    return \"{}{}\".format(s1, s2)\n",
    "\n",
    "s1, s2 = \"Hello\", \"World\"\n",
    "print(concatenate_strings(s1, s2))"
   ]
  },
  {
   "cell_type": "markdown",
   "id": "117b55dd",
   "metadata": {},
   "source": [
    "## Remove Specific Element from List"
   ]
  },
  {
   "cell_type": "code",
   "execution_count": 39,
   "id": "51e49ca2",
   "metadata": {},
   "outputs": [
    {
     "name": "stdout",
     "output_type": "stream",
     "text": [
      "[1, 3, 4]\n"
     ]
    }
   ],
   "source": [
    "def remove_element(lst, val):\n",
    "    return [x for x in lst if x != val]\n",
    "\n",
    "lst, val = [1, 2, 3, 4, 2], 2\n",
    "print(remove_element(lst, val))"
   ]
  },
  {
   "cell_type": "markdown",
   "id": "66199efa",
   "metadata": {},
   "source": [
    "## Find Second Largest in List"
   ]
  },
  {
   "cell_type": "code",
   "execution_count": 40,
   "id": "c029cd5e",
   "metadata": {},
   "outputs": [
    {
     "name": "stdout",
     "output_type": "stream",
     "text": [
      "20\n"
     ]
    }
   ],
   "source": [
    "def second_largest(lst):\n",
    "    unique_sorted = sorted(set(lst), reverse=True)\n",
    "    return unique_sorted[1] if len(unique_sorted) > 1 else None\n",
    "\n",
    "lst = [10, 20, 20, 30]\n",
    "print(second_largest(lst))"
   ]
  },
  {
   "cell_type": "markdown",
   "id": "7f30af64",
   "metadata": {},
   "source": [
    "## Count Elements in List"
   ]
  },
  {
   "cell_type": "code",
   "execution_count": 41,
   "id": "7d7e1ac4",
   "metadata": {},
   "outputs": [
    {
     "name": "stdout",
     "output_type": "stream",
     "text": [
      "{1: 1, 2: 2, 3: 3}\n"
     ]
    }
   ],
   "source": [
    "from collections import Counter\n",
    "\n",
    "def count_elements(lst):\n",
    "    return dict(Counter(lst))\n",
    "\n",
    "lst = [1, 2, 2, 3, 3, 3]\n",
    "print(count_elements(lst))"
   ]
  },
  {
   "cell_type": "markdown",
   "id": "06320e09",
   "metadata": {},
   "source": [
    "## Reverse List In-Place"
   ]
  },
  {
   "cell_type": "code",
   "execution_count": 42,
   "id": "42aeed53",
   "metadata": {},
   "outputs": [
    {
     "name": "stdout",
     "output_type": "stream",
     "text": [
      "[4, 3, 2, 1]\n"
     ]
    }
   ],
   "source": [
    "def reverse_list(lst):\n",
    "    left, right = 0, len(lst) - 1\n",
    "    while left < right:\n",
    "        lst[left], lst[right] = lst[right], lst[left]\n",
    "        left += 1\n",
    "        right -= 1\n",
    "    return lst\n",
    "\n",
    "lst = [1, 2, 3, 4]\n",
    "print(reverse_list(lst))"
   ]
  },
  {
   "cell_type": "markdown",
   "id": "c87fa8ef",
   "metadata": {},
   "source": [
    "## Remove Duplicates While Preserving Order"
   ]
  },
  {
   "cell_type": "code",
   "execution_count": 43,
   "id": "eb19ea9a",
   "metadata": {},
   "outputs": [
    {
     "name": "stdout",
     "output_type": "stream",
     "text": [
      "[1, 2, 3, 4]\n"
     ]
    }
   ],
   "source": [
    "def remove_duplicates(lst):\n",
    "    seen = set()\n",
    "    return [x for x in lst if not (x in seen or seen.add(x))]\n",
    "\n",
    "lst = [1, 2, 2, 3, 4, 3]\n",
    "print(remove_duplicates(lst))"
   ]
  },
  {
   "cell_type": "markdown",
   "id": "1f7682f7",
   "metadata": {},
   "source": [
    "## Check if List is Sorted"
   ]
  },
  {
   "cell_type": "code",
   "execution_count": 44,
   "id": "bac4e7c6",
   "metadata": {},
   "outputs": [
    {
     "name": "stdout",
     "output_type": "stream",
     "text": [
      "True\n"
     ]
    }
   ],
   "source": [
    "def is_sorted(lst):\n",
    "    return lst == sorted(lst) or lst == sorted(lst, reverse=True)\n",
    "\n",
    "lst = [1, 2, 3]\n",
    "print(is_sorted(lst))"
   ]
  },
  {
   "cell_type": "markdown",
   "id": "98bee5c8",
   "metadata": {},
   "source": [
    "## Merge Two Sorted Lists"
   ]
  },
  {
   "cell_type": "code",
   "execution_count": 45,
   "id": "11a88533",
   "metadata": {},
   "outputs": [
    {
     "name": "stdout",
     "output_type": "stream",
     "text": [
      "[1, 2, 3, 4, 5, 6]\n"
     ]
    }
   ],
   "source": [
    "def merge_sorted_lists(lst1, lst2):\n",
    "    return sorted(lst1 + lst2)\n",
    "\n",
    "lst1, lst2 = [1, 3, 5], [2, 4, 6]\n",
    "print(merge_sorted_lists(lst1, lst2))"
   ]
  },
  {
   "cell_type": "markdown",
   "id": "a5f6a4d9",
   "metadata": {},
   "source": [
    "## Find Intersection of Two Lists"
   ]
  },
  {
   "cell_type": "code",
   "execution_count": 46,
   "id": "9ba51b08",
   "metadata": {},
   "outputs": [
    {
     "name": "stdout",
     "output_type": "stream",
     "text": [
      "[2, 3]\n"
     ]
    }
   ],
   "source": [
    "def list_intersection(lst1, lst2):\n",
    "    return list(set(lst1) & set(lst2))\n",
    "\n",
    "lst1, lst2 = [1, 2, 3], [2, 3, 4]\n",
    "print(list_intersection(lst1, lst2))"
   ]
  },
  {
   "cell_type": "markdown",
   "id": "950efb34",
   "metadata": {},
   "source": [
    "## Find Union of Two Lists"
   ]
  },
  {
   "cell_type": "code",
   "execution_count": 47,
   "id": "d43a78f3",
   "metadata": {},
   "outputs": [
    {
     "name": "stdout",
     "output_type": "stream",
     "text": [
      "[1, 2, 3, 4]\n"
     ]
    }
   ],
   "source": [
    "def list_union(lst1, lst2):\n",
    "    return list(set(lst1) | set(lst2))\n",
    "\n",
    "lst1, lst2 = [1, 2, 3], [2, 3, 4]\n",
    "print(list_union(lst1, lst2))"
   ]
  },
  {
   "cell_type": "markdown",
   "id": "799fc2f1",
   "metadata": {},
   "source": [
    "## Shuffle List Without Built-in Function"
   ]
  },
  {
   "cell_type": "code",
   "execution_count": 48,
   "id": "dec9ecf8",
   "metadata": {},
   "outputs": [
    {
     "name": "stdout",
     "output_type": "stream",
     "text": [
      "[3, 2, 4, 1]\n"
     ]
    }
   ],
   "source": [
    "import random\n",
    "\n",
    "def shuffle_list(lst):\n",
    "    for i in range(len(lst) - 1, 0, -1):\n",
    "        j = random.randint(0, i)\n",
    "        lst[i], lst[j] = lst[j], lst[i]\n",
    "    return lst\n",
    "\n",
    "lst = [1, 2, 3, 4]\n",
    "print(shuffle_list(lst))"
   ]
  },
  {
   "cell_type": "markdown",
   "id": "367f5f0b",
   "metadata": {},
   "source": [
    "## Common Elements in Tuples"
   ]
  },
  {
   "cell_type": "code",
   "execution_count": 49,
   "id": "b0084815",
   "metadata": {},
   "outputs": [
    {
     "name": "stdout",
     "output_type": "stream",
     "text": [
      "(2, 3)\n"
     ]
    }
   ],
   "source": [
    "def common_elements(t1, t2):\n",
    "    return tuple(set(t1) & set(t2))\n",
    "\n",
    "t1, t2 = (1, 2, 3), (2, 3, 4)\n",
    "print(common_elements(t1, t2))"
   ]
  },
  {
   "cell_type": "markdown",
   "id": "71df83be",
   "metadata": {},
   "source": [
    "## Intersection of Two Sets"
   ]
  },
  {
   "cell_type": "code",
   "execution_count": 50,
   "id": "94341474",
   "metadata": {},
   "outputs": [
    {
     "name": "stdout",
     "output_type": "stream",
     "text": [
      "{2, 3}\n"
     ]
    }
   ],
   "source": [
    "set1 = {1, 2, 3}\n",
    "set2 = {2, 3, 4}\n",
    "print(set1 & set2)"
   ]
  },
  {
   "cell_type": "markdown",
   "id": "c67a3df6",
   "metadata": {},
   "source": [
    "## Concatenate Two Tuples"
   ]
  },
  {
   "cell_type": "code",
   "execution_count": 51,
   "id": "73966de2",
   "metadata": {},
   "outputs": [
    {
     "name": "stdout",
     "output_type": "stream",
     "text": [
      "(1, 2, 3, 4)\n"
     ]
    }
   ],
   "source": [
    "t1, t2 = (1, 2), (3, 4)\n",
    "print(t1 + t2)"
   ]
  },
  {
   "cell_type": "markdown",
   "id": "b78680b6",
   "metadata": {},
   "source": [
    "## Elements in First Set But Not in Second"
   ]
  },
  {
   "cell_type": "code",
   "execution_count": 52,
   "id": "56bccb84",
   "metadata": {},
   "outputs": [
    {
     "name": "stdout",
     "output_type": "stream",
     "text": [
      "{1}\n"
     ]
    }
   ],
   "source": [
    "set1 = {1, 2, 3}\n",
    "set2 = {2, 3, 4}\n",
    "print(set1 - set2)"
   ]
  },
  {
   "cell_type": "markdown",
   "id": "6ef5ed3a",
   "metadata": {},
   "source": [
    "## Slice Tuple"
   ]
  },
  {
   "cell_type": "code",
   "execution_count": 53,
   "id": "cbdb03d2",
   "metadata": {},
   "outputs": [
    {
     "name": "stdout",
     "output_type": "stream",
     "text": [
      "(2, 3, 4)\n"
     ]
    }
   ],
   "source": [
    "def slice_tuple(t, start, end):\n",
    "    return t[start:end]\n",
    "\n",
    "t = (1, 2, 3, 4, 5)\n",
    "print(slice_tuple(t, 1, 4))"
   ]
  },
  {
   "cell_type": "markdown",
   "id": "6cb3ddeb",
   "metadata": {},
   "source": [
    "## Union of Two Sets"
   ]
  },
  {
   "cell_type": "code",
   "execution_count": 54,
   "id": "ac8a8556",
   "metadata": {},
   "outputs": [
    {
     "name": "stdout",
     "output_type": "stream",
     "text": [
      "{1, 2, 3}\n"
     ]
    }
   ],
   "source": [
    "set1, set2 = {1, 2}, {2, 3}\n",
    "print(set1 | set2)"
   ]
  },
  {
   "cell_type": "markdown",
   "id": "9ce5f211",
   "metadata": {},
   "source": [
    "## Max and Min from Tuple"
   ]
  },
  {
   "cell_type": "code",
   "execution_count": 55,
   "id": "9821fc59",
   "metadata": {},
   "outputs": [
    {
     "name": "stdout",
     "output_type": "stream",
     "text": [
      "(1, 7)\n"
     ]
    }
   ],
   "source": [
    "def min_max_tuple(t):\n",
    "    return min(t), max(t)\n",
    "\n",
    "t = (4, 1, 7, 2)\n",
    "print(min_max_tuple(t))"
   ]
  },
  {
   "cell_type": "markdown",
   "id": "dfdc712a",
   "metadata": {},
   "source": [
    "## Dictionary Word Frequency"
   ]
  },
  {
   "cell_type": "code",
   "execution_count": 56,
   "id": "8046b4c6",
   "metadata": {},
   "outputs": [
    {
     "name": "stdout",
     "output_type": "stream",
     "text": [
      "{'apple': 2, 'banana': 1}\n"
     ]
    }
   ],
   "source": [
    "from collections import Counter\n",
    "\n",
    "def word_frequency(words):\n",
    "    return dict(Counter(words))\n",
    "\n",
    "words = [\"apple\", \"banana\", \"apple\"]\n",
    "print(word_frequency(words))"
   ]
  }
 ],
 "metadata": {
  "kernelspec": {
   "display_name": "Python 3 (ipykernel)",
   "language": "python",
   "name": "python3"
  },
  "language_info": {
   "codemirror_mode": {
    "name": "ipython",
    "version": 3
   },
   "file_extension": ".py",
   "mimetype": "text/x-python",
   "name": "python",
   "nbconvert_exporter": "python",
   "pygments_lexer": "ipython3",
   "version": "3.11.5"
  }
 },
 "nbformat": 4,
 "nbformat_minor": 5
}
